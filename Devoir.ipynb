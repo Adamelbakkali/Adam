{
  "nbformat": 4,
  "nbformat_minor": 0,
  "metadata": {
    "colab": {
      "provenance": []
    },
    "kernelspec": {
      "name": "python3",
      "display_name": "Python 3"
    },
    "language_info": {
      "name": "python"
    }
  },
  "cells": [
    {
      "cell_type": "code",
      "execution_count": 2,
      "metadata": {
        "id": "hUiIC7FtOYjC"
      },
      "outputs": [],
      "source": [
        "import numpy as np\n",
        "import tensorflow as tf\n",
        "from tensorflow.keras import datasets, layers, models\n",
        "from sklearn.metrics import classification_report, confusion_matrix\n",
        "import seaborn as sns\n",
        "import matplotlib.pyplot as plt\n"
      ]
    },
    {
      "cell_type": "code",
      "source": [
        "def load_preprocess_data():\n",
        "    (train_images, train_labels), (test_images, test_labels) = datasets.cifar10.load_data()\n",
        "    train_labels = train_labels.flatten()\n",
        "    test_labels = test_labels.flatten()\n",
        "\n",
        "    # Define classes that can fly (1) and cannot fly (0)\n",
        "    can_fly = [0, 2]  # airplane, bird\n",
        "    cannot_fly = [1, 3, 4, 5, 6, 7, 8, 9]  # all other classes\n",
        "\n",
        "    # Create binary labels for the new task\n",
        "    train_labels = np.array([1 if label in can_fly else 0 for label in train_labels])\n",
        "    test_labels = np.array([1 if label in can_fly else 0 for label in test_labels])\n",
        "\n",
        "    # Normalize pixel values to be between 0 and 1\n",
        "    train_images, test_images = train_images / 255.0, test_images / 255.0\n",
        "\n",
        "    return train_images, train_labels, test_images, test_labels\n",
        "\n",
        "# Load and preprocess the data\n",
        "train_images, train_labels, test_images, test_labels = load_preprocess_data()\n"
      ],
      "metadata": {
        "colab": {
          "base_uri": "https://localhost:8080/"
        },
        "id": "qW2jbATbPUsJ",
        "outputId": "2312dd54-ec5a-4d68-e53b-d44c6da687c3"
      },
      "execution_count": 3,
      "outputs": [
        {
          "output_type": "stream",
          "name": "stdout",
          "text": [
            "Downloading data from https://www.cs.toronto.edu/~kriz/cifar-10-python.tar.gz\n",
            "170498071/170498071 [==============================] - 11s 0us/step\n"
          ]
        }
      ]
    },
    {
      "cell_type": "code",
      "source": [
        "def build_model():\n",
        "    model = models.Sequential()\n",
        "    model.add(layers.Conv2D(32, (3, 3), activation='relu', input_shape=(32, 32, 3)))\n",
        "    model.add(layers.MaxPooling2D((2, 2)))\n",
        "    model.add(layers.Conv2D(64, (3, 3), activation='relu'))\n",
        "    model.add(layers.MaxPooling2D((2, 2)))\n",
        "    model.add(layers.Conv2D(64, (3, 3), activation='relu'))\n",
        "    model.add(layers.Flatten())\n",
        "    model.add(layers.Dense(64, activation='relu'))\n",
        "    model.add(layers.Dense(1, activation='sigmoid'))\n",
        "    return model\n",
        "\n",
        "# Build the model\n",
        "model = build_model()\n"
      ],
      "metadata": {
        "id": "TPKE9QBsPb7P"
      },
      "execution_count": 4,
      "outputs": []
    },
    {
      "cell_type": "code",
      "source": [
        "def compile_and_train_model(model, train_images, train_labels, test_images, test_labels):\n",
        "    model.compile(optimizer='adam',\n",
        "                  loss='binary_crossentropy',\n",
        "                  metrics=['accuracy'])\n",
        "\n",
        "    history = model.fit(train_images, train_labels, epochs=10,\n",
        "                        validation_data=(test_images, test_labels))\n",
        "    return history\n",
        "\n",
        "# Compile and train the model\n",
        "history = compile_and_train_model(model, train_images, train_labels, test_images, test_labels)\n"
      ],
      "metadata": {
        "colab": {
          "base_uri": "https://localhost:8080/"
        },
        "id": "PKe9fQFZPe6k",
        "outputId": "0bc79b42-0839-472a-e9d1-2bdd2dfa94d7"
      },
      "execution_count": 5,
      "outputs": [
        {
          "output_type": "stream",
          "name": "stdout",
          "text": [
            "Epoch 1/10\n",
            "1563/1563 [==============================] - 74s 46ms/step - loss: 0.4069 - accuracy: 0.8290 - val_loss: 0.3844 - val_accuracy: 0.8499\n",
            "Epoch 2/10\n",
            "1563/1563 [==============================] - 70s 45ms/step - loss: 0.3378 - accuracy: 0.8611 - val_loss: 0.3315 - val_accuracy: 0.8673\n",
            "Epoch 3/10\n",
            "1563/1563 [==============================] - 70s 45ms/step - loss: 0.3075 - accuracy: 0.8755 - val_loss: 0.3014 - val_accuracy: 0.8753\n",
            "Epoch 4/10\n",
            "1563/1563 [==============================] - 68s 44ms/step - loss: 0.2806 - accuracy: 0.8864 - val_loss: 0.2872 - val_accuracy: 0.8848\n",
            "Epoch 5/10\n",
            "1563/1563 [==============================] - 70s 45ms/step - loss: 0.2591 - accuracy: 0.8955 - val_loss: 0.2786 - val_accuracy: 0.8868\n",
            "Epoch 6/10\n",
            "1563/1563 [==============================] - 69s 44ms/step - loss: 0.2349 - accuracy: 0.9070 - val_loss: 0.2770 - val_accuracy: 0.8909\n",
            "Epoch 7/10\n",
            "1563/1563 [==============================] - 71s 45ms/step - loss: 0.2160 - accuracy: 0.9138 - val_loss: 0.2987 - val_accuracy: 0.8861\n",
            "Epoch 8/10\n",
            "1563/1563 [==============================] - 71s 46ms/step - loss: 0.1984 - accuracy: 0.9219 - val_loss: 0.3203 - val_accuracy: 0.8690\n",
            "Epoch 9/10\n",
            "1563/1563 [==============================] - 71s 45ms/step - loss: 0.1794 - accuracy: 0.9280 - val_loss: 0.3022 - val_accuracy: 0.8951\n",
            "Epoch 10/10\n",
            "1563/1563 [==============================] - 71s 45ms/step - loss: 0.1614 - accuracy: 0.9363 - val_loss: 0.2883 - val_accuracy: 0.8956\n"
          ]
        }
      ]
    },
    {
      "cell_type": "code",
      "source": [
        "def evaluate_model(model, test_images, test_labels):\n",
        "    predictions = model.predict(test_images)\n",
        "    predictions = (predictions > 0.5).astype(int)\n",
        "\n",
        "    print(\"Classification Report:\")\n",
        "    print(classification_report(test_labels, predictions))\n",
        "\n",
        "    print(\"Confusion Matrix:\")\n",
        "    cm = confusion_matrix(test_labels, predictions)\n",
        "    sns.heatmap(cm, annot=True, fmt='d')\n",
        "    plt.xlabel('Predicted')\n",
        "    plt.ylabel('True')\n",
        "    plt.show()\n",
        "\n",
        "# Evaluate the model\n",
        "evaluate_model(model, test_images, test_labels)\n"
      ],
      "metadata": {
        "colab": {
          "base_uri": "https://localhost:8080/",
          "height": 657
        },
        "id": "jKFXBAxhSN_M",
        "outputId": "0ff25b74-7823-43f9-9975-b913dd0fe10e"
      },
      "execution_count": 6,
      "outputs": [
        {
          "output_type": "stream",
          "name": "stdout",
          "text": [
            "313/313 [==============================] - 10s 30ms/step\n",
            "Classification Report:\n",
            "              precision    recall  f1-score   support\n",
            "\n",
            "           0       0.92      0.95      0.94      8000\n",
            "           1       0.78      0.67      0.72      2000\n",
            "\n",
            "    accuracy                           0.90     10000\n",
            "   macro avg       0.85      0.81      0.83     10000\n",
            "weighted avg       0.89      0.90      0.89     10000\n",
            "\n",
            "Confusion Matrix:\n"
          ]
        },
        {
          "output_type": "display_data",
          "data": {
            "text/plain": [
              "<Figure size 640x480 with 2 Axes>"
            ],
            "image/png": "[encoded data removed]"
          },
          "metadata": {}
        }
      ]
    }
  ]
}